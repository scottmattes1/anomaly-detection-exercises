{
 "cells": [
  {
   "cell_type": "markdown",
   "id": "26ee7564",
   "metadata": {},
   "source": [
    "## continuous_probabilistic_methods.py or continuous_probabilistic_methods.ipynb 1. Define a function named get_lower_and_upper_bounds that has two arguments. The first argument is a pandas Series. The second argument is the multiplier, which should have a default argument of 1.5."
   ]
  },
  {
   "cell_type": "code",
   "execution_count": 1,
   "id": "336a2441",
   "metadata": {},
   "outputs": [],
   "source": [
    "import pandas as pd"
   ]
  },
  {
   "cell_type": "code",
   "execution_count": 9,
   "id": "f9c35321",
   "metadata": {},
   "outputs": [],
   "source": [
    "def get_lower_upper_bounds(series, coeff):\n",
    "    \"\"\"\n",
    "    This function returns the upper and lower bound values for outliers. It takes in a series argument and a multiplier (coeff)\n",
    "    argument and computes the lower and upper bound off of iqr manipulation proportional to the multiplier. Outputs the lower\n",
    "    and upper bound values\n",
    "    \"\"\"\n",
    "    q1 = series.quantile(.25)\n",
    "    q3 = series.quantile(.75)\n",
    "    iqr = q3 - q1\n",
    "    lower_bound = q1 - (coeff * iqr)\n",
    "    upper_bound = q3 + (coeff * iqr)\n",
    "    \n",
    "    return lower_bound, upper_bound"
   ]
  },
  {
   "cell_type": "code",
   "execution_count": 10,
   "id": "6638ed94",
   "metadata": {},
   "outputs": [],
   "source": [
    "series = pd.Series(list(range(100)))"
   ]
  },
  {
   "cell_type": "code",
   "execution_count": 11,
   "id": "21983914",
   "metadata": {},
   "outputs": [
    {
     "data": {
      "text/plain": [
       "24.75"
      ]
     },
     "execution_count": 11,
     "metadata": {},
     "output_type": "execute_result"
    }
   ],
   "source": [
    "series.quantile(.25)"
   ]
  },
  {
   "cell_type": "code",
   "execution_count": 17,
   "id": "24f71929",
   "metadata": {},
   "outputs": [
    {
     "data": {
      "text/plain": [
       "(-49.5, 148.5)"
      ]
     },
     "execution_count": 17,
     "metadata": {},
     "output_type": "execute_result"
    }
   ],
   "source": [
    "lower_bound, upper_bound = get_lower_upper_bounds(series, 1.5)\n",
    "lower_bound, upper_bound"
   ]
  }
 ],
 "metadata": {
  "kernelspec": {
   "display_name": "Python 3 (ipykernel)",
   "language": "python",
   "name": "python3"
  },
  "language_info": {
   "codemirror_mode": {
    "name": "ipython",
    "version": 3
   },
   "file_extension": ".py",
   "mimetype": "text/x-python",
   "name": "python",
   "nbconvert_exporter": "python",
   "pygments_lexer": "ipython3",
   "version": "3.11.3"
  }
 },
 "nbformat": 4,
 "nbformat_minor": 5
}
